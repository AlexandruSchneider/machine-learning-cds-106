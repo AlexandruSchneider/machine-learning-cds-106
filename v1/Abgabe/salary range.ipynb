{
 "cells": [
  {
   "cell_type": "markdown",
   "metadata": {},
   "source": [
    "# Imports"
   ]
  },
  {
   "cell_type": "code",
   "execution_count": 241,
   "metadata": {},
   "outputs": [],
   "source": [
    "import pandas as pd\n",
    "import numpy as np\n",
    "from pandas_profiling import ProfileReport\n",
    "import seaborn as sns\n",
    "import matplotlib.pyplot as plt\n",
    "\n",
    "# for Q-Q plots\n",
    "import scipy.stats as stats\n",
    "\n",
    "# from feature-engine\n",
    "#from feature_engine.imputation import MeanMedianImputer\n",
    "import feature_engine.imputation as imp\n",
    "\n",
    "# to split the datasets\n",
    "from sklearn.model_selection import train_test_split\n",
    "from sklearn.pipeline import Pipeline"
   ]
  },
  {
   "cell_type": "code",
   "execution_count": 242,
   "metadata": {},
   "outputs": [],
   "source": [
    "DATA_PATH = \"fake_job_postings.csv\""
   ]
  },
  {
   "cell_type": "markdown",
   "metadata": {},
   "source": [
    "# Complete Case Analysis\n",
    "Instead of imputing missing variables, there is an option to remove missing variables.\n",
    "This option is done in complete case analysis (CCA), in which all observations with a missing data in one of the variables is discarded. That means we only keep observations with data on all the variables.\n",
    "\n",
    "**Assumptions:** Data is missing completely at random.\n",
    "\n",
    "**Advantages:**\n",
    "- No data manipulation\n",
    "- Preserves variable distribution\n",
    "\n",
    "**Limitation:**\n",
    "- Discard a huge amount of data\n",
    "- Introduce bias\n",
    "- Remove informative information"
   ]
  },
  {
   "cell_type": "markdown",
   "metadata": {},
   "source": [
    "### Load Data"
   ]
  },
  {
   "cell_type": "code",
   "execution_count": 243,
   "metadata": {},
   "outputs": [
    {
     "data": {
      "text/plain": "   job_id                                      title            location  \\\n0       1                           Marketing Intern    US, NY, New York   \n1       2  Customer Service - Cloud Video Production      NZ, , Auckland   \n2       3    Commissioning Machinery Assistant (CMA)       US, IA, Wever   \n3       4          Account Executive - Washington DC  US, DC, Washington   \n4       5                        Bill Review Manager  US, FL, Fort Worth   \n\n  department salary_range                                    company_profile  \\\n0  Marketing          NaN  We're Food52, and we've created a groundbreaki...   \n1    Success          NaN  90 Seconds, the worlds Cloud Video Production ...   \n2        NaN          NaN  Valor Services provides Workforce Solutions th...   \n3      Sales          NaN  Our passion for improving quality of life thro...   \n4        NaN          NaN  SpotSource Solutions LLC is a Global Human Cap...   \n\n                                         description  \\\n0  Food52, a fast-growing, James Beard Award-winn...   \n1  Organised - Focused - Vibrant - Awesome!Do you...   \n2  Our client, located in Houston, is actively se...   \n3  THE COMPANY: ESRI – Environmental Systems Rese...   \n4  JOB TITLE: Itemization Review ManagerLOCATION:...   \n\n                                        requirements  \\\n0  Experience with content management systems a m...   \n1  What we expect from you:Your key responsibilit...   \n2  Implement pre-commissioning and commissioning ...   \n3  EDUCATION: Bachelor’s or Master’s in GIS, busi...   \n4  QUALIFICATIONS:RN license in the State of Texa...   \n\n                                            benefits  telecommuting  \\\n0                                                NaN              0   \n1  What you will get from usThrough being part of...              0   \n2                                                NaN              0   \n3  Our culture is anything but corporate—we have ...              0   \n4                              Full Benefits Offered              0   \n\n   has_company_logo  has_questions employment_type required_experience  \\\n0                 1              0           Other          Internship   \n1                 1              0       Full-time      Not Applicable   \n2                 1              0             NaN                 NaN   \n3                 1              0       Full-time    Mid-Senior level   \n4                 1              1       Full-time    Mid-Senior level   \n\n  required_education                   industry              function  \\\n0                NaN                        NaN             Marketing   \n1                NaN  Marketing and Advertising      Customer Service   \n2                NaN                        NaN                   NaN   \n3  Bachelor's Degree          Computer Software                 Sales   \n4  Bachelor's Degree     Hospital & Health Care  Health Care Provider   \n\n   fraudulent  \n0           0  \n1           0  \n2           0  \n3           0  \n4           0  ",
      "text/html": "<div>\n<style scoped>\n    .dataframe tbody tr th:only-of-type {\n        vertical-align: middle;\n    }\n\n    .dataframe tbody tr th {\n        vertical-align: top;\n    }\n\n    .dataframe thead th {\n        text-align: right;\n    }\n</style>\n<table border=\"1\" class=\"dataframe\">\n  <thead>\n    <tr style=\"text-align: right;\">\n      <th></th>\n      <th>job_id</th>\n      <th>title</th>\n      <th>location</th>\n      <th>department</th>\n      <th>salary_range</th>\n      <th>company_profile</th>\n      <th>description</th>\n      <th>requirements</th>\n      <th>benefits</th>\n      <th>telecommuting</th>\n      <th>has_company_logo</th>\n      <th>has_questions</th>\n      <th>employment_type</th>\n      <th>required_experience</th>\n      <th>required_education</th>\n      <th>industry</th>\n      <th>function</th>\n      <th>fraudulent</th>\n    </tr>\n  </thead>\n  <tbody>\n    <tr>\n      <th>0</th>\n      <td>1</td>\n      <td>Marketing Intern</td>\n      <td>US, NY, New York</td>\n      <td>Marketing</td>\n      <td>NaN</td>\n      <td>We're Food52, and we've created a groundbreaki...</td>\n      <td>Food52, a fast-growing, James Beard Award-winn...</td>\n      <td>Experience with content management systems a m...</td>\n      <td>NaN</td>\n      <td>0</td>\n      <td>1</td>\n      <td>0</td>\n      <td>Other</td>\n      <td>Internship</td>\n      <td>NaN</td>\n      <td>NaN</td>\n      <td>Marketing</td>\n      <td>0</td>\n    </tr>\n    <tr>\n      <th>1</th>\n      <td>2</td>\n      <td>Customer Service - Cloud Video Production</td>\n      <td>NZ, , Auckland</td>\n      <td>Success</td>\n      <td>NaN</td>\n      <td>90 Seconds, the worlds Cloud Video Production ...</td>\n      <td>Organised - Focused - Vibrant - Awesome!Do you...</td>\n      <td>What we expect from you:Your key responsibilit...</td>\n      <td>What you will get from usThrough being part of...</td>\n      <td>0</td>\n      <td>1</td>\n      <td>0</td>\n      <td>Full-time</td>\n      <td>Not Applicable</td>\n      <td>NaN</td>\n      <td>Marketing and Advertising</td>\n      <td>Customer Service</td>\n      <td>0</td>\n    </tr>\n    <tr>\n      <th>2</th>\n      <td>3</td>\n      <td>Commissioning Machinery Assistant (CMA)</td>\n      <td>US, IA, Wever</td>\n      <td>NaN</td>\n      <td>NaN</td>\n      <td>Valor Services provides Workforce Solutions th...</td>\n      <td>Our client, located in Houston, is actively se...</td>\n      <td>Implement pre-commissioning and commissioning ...</td>\n      <td>NaN</td>\n      <td>0</td>\n      <td>1</td>\n      <td>0</td>\n      <td>NaN</td>\n      <td>NaN</td>\n      <td>NaN</td>\n      <td>NaN</td>\n      <td>NaN</td>\n      <td>0</td>\n    </tr>\n    <tr>\n      <th>3</th>\n      <td>4</td>\n      <td>Account Executive - Washington DC</td>\n      <td>US, DC, Washington</td>\n      <td>Sales</td>\n      <td>NaN</td>\n      <td>Our passion for improving quality of life thro...</td>\n      <td>THE COMPANY: ESRI – Environmental Systems Rese...</td>\n      <td>EDUCATION: Bachelor’s or Master’s in GIS, busi...</td>\n      <td>Our culture is anything but corporate—we have ...</td>\n      <td>0</td>\n      <td>1</td>\n      <td>0</td>\n      <td>Full-time</td>\n      <td>Mid-Senior level</td>\n      <td>Bachelor's Degree</td>\n      <td>Computer Software</td>\n      <td>Sales</td>\n      <td>0</td>\n    </tr>\n    <tr>\n      <th>4</th>\n      <td>5</td>\n      <td>Bill Review Manager</td>\n      <td>US, FL, Fort Worth</td>\n      <td>NaN</td>\n      <td>NaN</td>\n      <td>SpotSource Solutions LLC is a Global Human Cap...</td>\n      <td>JOB TITLE: Itemization Review ManagerLOCATION:...</td>\n      <td>QUALIFICATIONS:RN license in the State of Texa...</td>\n      <td>Full Benefits Offered</td>\n      <td>0</td>\n      <td>1</td>\n      <td>1</td>\n      <td>Full-time</td>\n      <td>Mid-Senior level</td>\n      <td>Bachelor's Degree</td>\n      <td>Hospital &amp; Health Care</td>\n      <td>Health Care Provider</td>\n      <td>0</td>\n    </tr>\n  </tbody>\n</table>\n</div>"
     },
     "execution_count": 243,
     "metadata": {},
     "output_type": "execute_result"
    }
   ],
   "source": [
    "postings = pd.read_csv(DATA_PATH)\n",
    "postings.head()"
   ]
  },
  {
   "cell_type": "markdown",
   "metadata": {},
   "source": [
    "### Variables with missing Values"
   ]
  },
  {
   "cell_type": "code",
   "execution_count": 244,
   "metadata": {},
   "outputs": [
    {
     "data": {
      "text/plain": "['location',\n 'department',\n 'salary_range',\n 'company_profile',\n 'description',\n 'requirements',\n 'benefits',\n 'employment_type',\n 'required_experience',\n 'required_education',\n 'industry',\n 'function']"
     },
     "execution_count": 244,
     "metadata": {},
     "output_type": "execute_result"
    }
   ],
   "source": [
    "vars_with_na = [var for var in postings.columns if postings[var].isnull().mean() > 0]\n",
    "vars_with_na"
   ]
  },
  {
   "cell_type": "code",
   "execution_count": 245,
   "metadata": {},
   "outputs": [
    {
     "data": {
      "text/plain": "['job_id',\n 'title',\n 'telecommuting',\n 'has_company_logo',\n 'has_questions',\n 'fraudulent']"
     },
     "execution_count": 245,
     "metadata": {},
     "output_type": "execute_result"
    }
   ],
   "source": [
    "vars_with_no_na = [vars for vars in postings.columns if postings[vars].isnull().mean() == 0]\n",
    "vars_with_no_na"
   ]
  },
  {
   "cell_type": "markdown",
   "metadata": {},
   "source": [
    "Conclusion: 'job_id', 'title', 'telecommuting', 'has_company_logo', 'has_questions' and 'fraudulent' do **NOT** have missing values."
   ]
  },
  {
   "cell_type": "markdown",
   "metadata": {},
   "source": [
    "### Counting Proportion of missing Values"
   ]
  },
  {
   "cell_type": "code",
   "execution_count": 246,
   "metadata": {},
   "outputs": [
    {
     "data": {
      "text/plain": "               variable  missing_percentage\n2          salary_range            0.839597\n1            department            0.645805\n9    required_education            0.453300\n6              benefits            0.403244\n8   required_experience            0.394295\n11             function            0.361018\n10             industry            0.274217\n7       employment_type            0.194128\n3       company_profile            0.185011\n5          requirements            0.150727\n0              location            0.019351\n4           description            0.000056",
      "text/html": "<div>\n<style scoped>\n    .dataframe tbody tr th:only-of-type {\n        vertical-align: middle;\n    }\n\n    .dataframe tbody tr th {\n        vertical-align: top;\n    }\n\n    .dataframe thead th {\n        text-align: right;\n    }\n</style>\n<table border=\"1\" class=\"dataframe\">\n  <thead>\n    <tr style=\"text-align: right;\">\n      <th></th>\n      <th>variable</th>\n      <th>missing_percentage</th>\n    </tr>\n  </thead>\n  <tbody>\n    <tr>\n      <th>2</th>\n      <td>salary_range</td>\n      <td>0.839597</td>\n    </tr>\n    <tr>\n      <th>1</th>\n      <td>department</td>\n      <td>0.645805</td>\n    </tr>\n    <tr>\n      <th>9</th>\n      <td>required_education</td>\n      <td>0.453300</td>\n    </tr>\n    <tr>\n      <th>6</th>\n      <td>benefits</td>\n      <td>0.403244</td>\n    </tr>\n    <tr>\n      <th>8</th>\n      <td>required_experience</td>\n      <td>0.394295</td>\n    </tr>\n    <tr>\n      <th>11</th>\n      <td>function</td>\n      <td>0.361018</td>\n    </tr>\n    <tr>\n      <th>10</th>\n      <td>industry</td>\n      <td>0.274217</td>\n    </tr>\n    <tr>\n      <th>7</th>\n      <td>employment_type</td>\n      <td>0.194128</td>\n    </tr>\n    <tr>\n      <th>3</th>\n      <td>company_profile</td>\n      <td>0.185011</td>\n    </tr>\n    <tr>\n      <th>5</th>\n      <td>requirements</td>\n      <td>0.150727</td>\n    </tr>\n    <tr>\n      <th>0</th>\n      <td>location</td>\n      <td>0.019351</td>\n    </tr>\n    <tr>\n      <th>4</th>\n      <td>description</td>\n      <td>0.000056</td>\n    </tr>\n  </tbody>\n</table>\n</div>"
     },
     "execution_count": 246,
     "metadata": {},
     "output_type": "execute_result"
    }
   ],
   "source": [
    "# function to calculate missing data by column\n",
    "postings_na = postings[vars_with_na].isnull().mean()\n",
    "\n",
    "# Transforming the data into a dataframe\n",
    "postings_na = pd.DataFrame(postings_na.reset_index())\n",
    "\n",
    "# Renaming the columns\n",
    "postings_na.columns = ['variable', 'missing_percentage']\n",
    "\n",
    "# Sorting the dataframe by missing values\n",
    "postings_na.sort_values(by='missing_percentage', ascending=False, inplace=True)\n",
    "\n",
    "postings_na"
   ]
  },
  {
   "cell_type": "code",
   "execution_count": 246,
   "outputs": [],
   "source": [],
   "metadata": {
    "collapsed": false
   }
  },
  {
   "cell_type": "markdown",
   "metadata": {},
   "source": [
    "Conclusion: Some Values have a very high percentage of missing values, lets have a look:\n",
    "- 83% of all values in the 'salaray_range' column are empty (NaN), but is that bad?\n",
    "- 65% of all department values are missing (e.g. Marketing etc.)\n",
    "- 25% - 45% every forth to every second value is missing (how relevant are these features?)\n",
    "- 15% - 20% every fifth value is missing, is it at random?\n",
    "- <5% almost no values are missing, how can these be filled and are these values missing at random?"
   ]
  },
  {
   "cell_type": "markdown",
   "metadata": {},
   "source": [
    "#### Salary Range"
   ]
  },
  {
   "cell_type": "code",
   "execution_count": 247,
   "metadata": {},
   "outputs": [
    {
     "data": {
      "text/plain": "<Figure size 1000x500 with 2 Axes>",
      "image/png": "[encoded data removed]"
     },
     "metadata": {},
     "output_type": "display_data"
    }
   ],
   "source": [
    "salary_range = postings['salary_range']\n",
    "fraudulent = postings['fraudulent']\n",
    "\n",
    "# NA = 0, else 1\n",
    "salary_range = pd.DataFrame(np.where(salary_range.isnull(), 0, 1))\n",
    "\n",
    "# combine the two columns\n",
    "salary_fraudulent = pd.concat([salary_range, fraudulent], axis=1)\n",
    "salary_fraudulent.columns = ['salary_range', 'fraudulent']\n",
    "\n",
    "fig, (ax1, ax2) = plt.subplots(1, 2, figsize=(10, 5))\n",
    "\n",
    "# salary range not specified (=0) and fraudulent as pie\n",
    "salary_not_specified = salary_fraudulent[salary_fraudulent['salary_range'] == 0]\n",
    "ax1.pie(salary_not_specified['fraudulent'].value_counts(), labels=['Not Fraudulent', 'Fraudulent'], autopct='%1.1f%%')\n",
    "ax1.title.set_text(f'Salary Range not specified ({salary_not_specified.shape[0]} Data Points)')\n",
    "\n",
    "# salary range specified (=1) and fraudulent as pie\n",
    "salary_specified = salary_fraudulent[salary_fraudulent['salary_range'] == 1]\n",
    "ax2.pie(salary_specified['fraudulent'].value_counts(), labels=['Not Fraudulent', 'Fraudulent'], autopct='%1.1f%%')\n",
    "ax2.title.set_text(f'Salary Range specified ({salary_specified.shape[0]} Data Points)')"
   ]
  },
  {
   "cell_type": "markdown",
   "metadata": {},
   "source": [
    "We need to further look into the salary range.\n",
    "\n",
    "<br>\n",
    "\n",
    "feature --> zielvariable\n",
    "- missing at random\n",
    "- repräsentativ\n",
    "- salaray range binär (null machen wenn kein wert, 1 wenn vorhanden) zweites Df kreieren\n",
    "- salary range mit kategorien plotten (Na, Ranges, Datum, Nur 1 Wert), wieviel ist prozentual angezeigt\n",
    "- der höchste\n",
    "- hat eas einen einfluss auf unser modell (binär)\n",
    "- department ('Unspecified') --> Rare Labels\n",
    "- location (splitting in 3 features land, state, city)"
   ]
  },
  {
   "cell_type": "markdown",
   "metadata": {},
   "source": [
    "Alex: location <br>\n",
    "Louis: salary range <br>\n",
    "Drin: department, req_education und was du noch so magst"
   ]
  },
  {
   "cell_type": "code",
   "execution_count": 248,
   "metadata": {},
   "outputs": [],
   "source": [
    "\n",
    "df_salary_binary = postings.copy()\n",
    "#print(df_salary_binary['salary_range'].isnull())\n",
    "#print(df_salary_binary['salary_range'].isnull().sum())\n",
    "\n",
    "'''salary feature make binary'''\n",
    "'''iterate trough salary_range column and if value is not null, set value to 1, else 0'''\n",
    "\n",
    "for index, row in df_salary_binary.iterrows():\n",
    "    if pd.isnull(row['salary_range']):\n",
    "        df_salary_binary.at[index, 'salary_range'] = 0\n",
    "    else:\n",
    "        df_salary_binary.at[index, 'salary_range'] = 1\n",
    "\n",
    "\n"
   ]
  },
  {
   "cell_type": "markdown",
   "source": [],
   "metadata": {
    "collapsed": false
   }
  },
  {
   "cell_type": "code",
   "execution_count": 249,
   "outputs": [
    {
     "name": "stdout",
     "output_type": "stream",
     "text": [
      "       job_id                                              title  \\\n",
      "6           7                              Head of Content (m/f)   \n",
      "10         11  ASP.net Developer Job opportunity at United St...   \n",
      "15         16                         VP of Sales - Vault Dragon   \n",
      "23         24  Vice President, Sales and Sponsorship (Busines...   \n",
      "31         32                   Software Applications Specialist   \n",
      "...       ...                                                ...   \n",
      "17844   17845             Sr. Scm Web Development Technical Lead   \n",
      "17849   17850                             Communication Designer   \n",
      "17865   17866  Portfolio Development Associate - Paris & rest...   \n",
      "17867   17868                                   Admin Assistant    \n",
      "17874   17875                               JavaScript Developer   \n",
      "\n",
      "                    location          department   salary_range  \\\n",
      "6             DE, BE, Berlin          ANDROIDPIT    20000-28000   \n",
      "10       US, NJ, Jersey City                 NaN  100000-120000   \n",
      "15         SG, 01, Singapore               Sales  120000-150000   \n",
      "23          US, CA, Carlsbad  Businessfriend.com  100000-120000   \n",
      "31                  US, KS,                  NaN    50000-65000   \n",
      "...                      ...                 ...            ...   \n",
      "17844    US, CA, los Angeles                 NaN            0-0   \n",
      "17849  US, CA, San Francisco              Design   80000-100000   \n",
      "17865        GB, LND, London               Sales    18000-20000   \n",
      "17867    GB, WSX, Chichester               Sales    18000-19000   \n",
      "17874                 US, ,                  NaN   80000-100000   \n",
      "\n",
      "                                         company_profile  \\\n",
      "6      Founded in 2009, the Fonpit AG rose with its i...   \n",
      "10                                                   NaN   \n",
      "15     Jungle Ventures is the leading Singapore based...   \n",
      "23     WDM Group is an innovative, forward thinking d...   \n",
      "31                                                   NaN   \n",
      "...                                                  ...   \n",
      "17844                                                NaN   \n",
      "17849  Balanced Labs exists to provide accountants an...   \n",
      "17865  We're hiring!AvenueStory is a concept driven b...   \n",
      "17867                                                NaN   \n",
      "17874                                                NaN   \n",
      "\n",
      "                                             description  \\\n",
      "6      Your Responsibilities: Manage the English-spea...   \n",
      "10     Position : #URL_86fd830a95a64e2b30ceed829e63fd...   \n",
      "15     About Vault Dragon Vault Dragon is Dropbox for...   \n",
      "23     #URL_eda2500ddcedb60957fcd7f5b164e092966f8c4e8...   \n",
      "31     Day to Day-Install, upgrade and configure web-...   \n",
      "...                                                  ...   \n",
      "17844  Title: Sr. SCM Web Development Technical LeadL...   \n",
      "17849  Balanced Labs exists to improve the lives of a...   \n",
      "17865  AvenueStory is looking for a curious, ambitiou...   \n",
      "17867  We are seeking an administrator to work in a b...   \n",
      "17874  Sr, JavaScript Developer Experience : 4-10 yea...   \n",
      "\n",
      "                                            requirements  \\\n",
      "6      Your Know-How:                                ...   \n",
      "10     Position : #URL_86fd830a95a64e2b30ceed829e63fd...   \n",
      "15     Key Superpowers3-5 years of high-pressure sale...   \n",
      "23     Job Requirements:A reputation as a \"go-getter\"...   \n",
      "31     Must Have's3+ years of experience with web-bas...   \n",
      "...                                                  ...   \n",
      "17844  Related experience Undertake project specific ...   \n",
      "17849  Specifically, we’re looking for:5+ years of vi...   \n",
      "17865  Comfortable on the phone, fluent in French and...   \n",
      "17867  Proficient experience in Microsoft Word and Ex...   \n",
      "17874                                                NaN   \n",
      "\n",
      "                                                benefits  telecommuting  \\\n",
      "6      Your Benefits: Being part of a fast-growing co...              0   \n",
      "10     Benefits - FullBonus Eligible - YesInterview T...              0   \n",
      "15     Basic: SGD 120,000Equity negotiable for a rock...              0   \n",
      "23     Businessfriend will offer a competitive six fi...              0   \n",
      "31     Medical, Dental, Vision, Life, Disability, Pre...              0   \n",
      "...                                                  ...            ...   \n",
      "17844                                                NaN              0   \n",
      "17849  We offer great salaries, share options, and a ...              0   \n",
      "17865  Working within a small, young dynamic team in ...              0   \n",
      "17867  Salary £18,000Commission available after quali...              0   \n",
      "17874                                                NaN              0   \n",
      "\n",
      "       has_company_logo  has_questions employment_type required_experience  \\\n",
      "6                     1              1       Full-time    Mid-Senior level   \n",
      "10                    0              0       Full-time    Mid-Senior level   \n",
      "15                    1              1       Full-time           Executive   \n",
      "23                    1              0       Full-time           Executive   \n",
      "31                    1              0       Full-time           Associate   \n",
      "...                 ...            ...             ...                 ...   \n",
      "17844                 1              0        Contract    Mid-Senior level   \n",
      "17849                 1              0       Full-time    Mid-Senior level   \n",
      "17865                 1              1       Full-time         Entry level   \n",
      "17867                 1              0       Full-time         Entry level   \n",
      "17874                 0              0       Full-time    Mid-Senior level   \n",
      "\n",
      "      required_education                             industry  \\\n",
      "6        Master's Degree                         Online Media   \n",
      "10     Bachelor's Degree  Information Technology and Services   \n",
      "15     Bachelor's Degree                  Facilities Services   \n",
      "23           Unspecified                             Internet   \n",
      "31           Unspecified                    Computer Software   \n",
      "...                  ...                                  ...   \n",
      "17844  Bachelor's Degree  Information Technology and Services   \n",
      "17849  Bachelor's Degree                    Computer Software   \n",
      "17865  Bachelor's Degree                          Real Estate   \n",
      "17867        Unspecified                      Human Resources   \n",
      "17874  Bachelor's Degree                    Computer Software   \n",
      "\n",
      "                     function  fraudulent  \n",
      "6                  Management           0  \n",
      "10     Information Technology           0  \n",
      "15                      Sales           0  \n",
      "23                      Sales           0  \n",
      "31                Engineering           0  \n",
      "...                       ...         ...  \n",
      "17844  Information Technology           0  \n",
      "17849                  Design           0  \n",
      "17865                   Sales           0  \n",
      "17867                   Sales           0  \n",
      "17874  Information Technology           0  \n",
      "\n",
      "[2868 rows x 18 columns]\n"
     ]
    }
   ],
   "source": [
    "\n",
    "df = postings\n",
    "\n",
    "'''split df into two dataframes, one with salary_range and one without'''\n",
    "df_salary = df[df['salary_range'].notnull()]\n",
    "df_no_salary = df[df['salary_range'].isnull()]\n",
    "print(df_salary)\n",
    "#print(df_no_salary['salary_range'].value_counts())\n"
   ],
   "metadata": {
    "collapsed": false
   }
  },
  {
   "cell_type": "code",
   "execution_count": 250,
   "outputs": [],
   "source": [
    "\n",
    "\n",
    "'''make a copy of df_salary'''\n",
    "df_salary_copy = df_salary.copy()\n"
   ],
   "metadata": {
    "collapsed": false
   }
  },
  {
   "cell_type": "code",
   "execution_count": 251,
   "outputs": [
    {
     "name": "stdout",
     "output_type": "stream",
     "text": [
      "0.00906555090655509\n"
     ]
    }
   ],
   "source": [
    "df_salary_copy['salary_range'] = df_salary_copy['salary_range'].str.replace('Dec', 'Date')\n",
    "df_salary_copy['salary_range'] = df_salary_copy['salary_range'].str.replace('Apr', 'Date')\n",
    "df_salary_copy['salary_range'] = df_salary_copy['salary_range'].str.replace('Oct', 'Date')\n",
    "df_salary_copy['salary_range'] = df_salary_copy['salary_range'].str.replace('Sep', 'Date')\n",
    "df_salary_copy['salary_range'] = df_salary_copy['salary_range'].str.replace('Jun', 'Date')\n",
    "df_salary_copy['salary_range'] = df_salary_copy['salary_range'].str.replace('Nov', 'Date')\n",
    "\n",
    "\n",
    "\n",
    "'''how many percent of salary_range intails 'date'  '''\n",
    "print(df_salary_copy['salary_range'].str.contains('Date').sum() / len(df_salary_copy['salary_range']))\n"
   ],
   "metadata": {
    "collapsed": false
   }
  },
  {
   "cell_type": "code",
   "execution_count": 252,
   "outputs": [
    {
     "name": "stdout",
     "output_type": "stream",
     "text": [
      "10-Date    11\n",
      "11-Date     3\n",
      "4-Date      2\n",
      "Date-20     2\n",
      "2-Date      2\n",
      "9-Date      1\n",
      "3-Date      1\n",
      "Date-15     1\n",
      "8-Date      1\n",
      "Date-18     1\n",
      "Date-25     1\n",
      "Name: salary_range, dtype: int64\n"
     ]
    }
   ],
   "source": [
    "''''make new df with only salary range 'Date' '''\n",
    "df_salary_copy_date = df_salary_copy[df_salary_copy['salary_range'].str.contains('Date')]\n",
    "print(df_salary_copy_date['salary_range'].value_counts())"
   ],
   "metadata": {
    "collapsed": false
   }
  },
  {
   "cell_type": "code",
   "execution_count": 253,
   "outputs": [
    {
     "name": "stdout",
     "output_type": "stream",
     "text": [
      "0.004484304932735426\n"
     ]
    }
   ],
   "source": [
    "'''how many percent of salary_range intails 'date' and are fraudulent  '''\n",
    "print(df_salary_copy[df_salary_copy['fraudulent'] == 1]['salary_range'].str.contains('Date').sum() / len(df_salary_copy[df_salary_copy['fraudulent'] == 1]['salary_range']))\n",
    "\n"
   ],
   "metadata": {
    "collapsed": false
   }
  },
  {
   "cell_type": "code",
   "execution_count": 254,
   "outputs": [
    {
     "name": "stdout",
     "output_type": "stream",
     "text": [
      "0.038461538461538464\n",
      "6          20000-28000\n",
      "10       100000-120000\n",
      "15       120000-150000\n",
      "23       100000-120000\n",
      "31         50000-65000\n",
      "             ...      \n",
      "17844              0-0\n",
      "17849     80000-100000\n",
      "17865      18000-20000\n",
      "17867      18000-19000\n",
      "17874     80000-100000\n",
      "Name: salary_range, Length: 2868, dtype: object\n"
     ]
    }
   ],
   "source": [
    "'''create dataframe with only rows that have a salary_range that does include 'date' '''\n",
    "df_salary_date = df_salary_copy[df_salary_copy['salary_range'].str.contains('Date') == True]\n",
    "\n",
    "'''how many percent df_salary_date are fraudulent'''\n",
    "\n",
    "print(df_salary_date['fraudulent'].sum() / len(df_salary_date['fraudulent']))\n",
    "print(df_salary_copy['salary_range'])"
   ],
   "metadata": {
    "collapsed": false
   }
  },
  {
   "cell_type": "code",
   "execution_count": 255,
   "outputs": [
    {
     "name": "stderr",
     "output_type": "stream",
     "text": [
      "C:\\Users\\Startklar\\AppData\\Local\\Temp\\ipykernel_19264\\1705075487.py:7: FutureWarning: The default value of regex will change from True to False in a future version. In addition, single character regular expressions will *not* be treated as literal strings when regex=True.\n",
      "  df_salary_copy_numeric['salary_range'] = df_salary_copy_numeric['salary_range'].str.replace('$', '')\n"
     ]
    }
   ],
   "source": [
    "'''remove all non numeric characters from salary_range'''\n",
    "\n",
    "'''make a copy of df_salary'''\n",
    "\n",
    "df_salary_copy_numeric = df_salary_copy.copy()\n",
    "\n",
    "df_salary_copy_numeric['salary_range'] = df_salary_copy_numeric['salary_range'].str.replace('$', '')\n",
    "df_salary_copy_numeric['salary_range'] = df_salary_copy_numeric['salary_range'].str.replace(',', '')\n",
    "df_salary_copy_numeric['salary_range'] = df_salary_copy_numeric['salary_range'].str.replace('K', '')\n",
    "df_salary_copy_numeric['salary_range'] = df_salary_copy_numeric['salary_range'].str.replace('k', '')\n",
    "df_salary_copy_numeric['salary_range'] = df_salary_copy_numeric['salary_range'].str.replace(' ', '')\n",
    "df_salary_copy_numeric['salary_range'] = df_salary_copy_numeric['salary_range'].str.replace('-', ' ')\n",
    "df_salary_copy_numeric['salary_range'] = df_salary_copy_numeric['salary_range'].str.replace('to', ' ')\n",
    "df_salary_copy_numeric['salary_range'] = df_salary_copy_numeric['salary_range'].str.replace('Date', ' ')\n",
    "\n",
    "\n",
    "'''if there are 2 numbers in salary_range, take the average'''\n",
    "for index, row in df_salary_copy_numeric.iterrows():\n",
    "    if len(row['salary_range'].split()) == 2:\n",
    "        df_salary_copy_numeric.at[index, 'salary_range'] = (int(row['salary_range'].split()[0]) + int(row['salary_range'].split()[1])) / 2\n",
    "    else:\n",
    "        df_salary_copy_numeric.at[index, 'salary_range'] = row['salary_range']\n",
    "\n",
    "'''convert salary_range to numeric'''\n",
    "df_salary_copy_numeric['salary_range'] = pd.to_numeric(df_salary_copy_numeric['salary_range'], errors='coerce')\n",
    "\n",
    "\n",
    "\n",
    "\n"
   ],
   "metadata": {
    "collapsed": false
   }
  },
  {
   "cell_type": "code",
   "execution_count": 255,
   "outputs": [],
   "source": [],
   "metadata": {
    "collapsed": false
   }
  },
  {
   "cell_type": "code",
   "execution_count": 256,
   "outputs": [
    {
     "name": "stdout",
     "output_type": "stream",
     "text": [
      "24000.0\n"
     ]
    }
   ],
   "source": [
    "'''convert salary_range to numeric'''\n",
    "df_salary_copy_numeric['salary_range'] = pd.to_numeric(df_salary_copy_numeric['salary_range'], errors='coerce')\n",
    "\n",
    "print(df_salary_copy_numeric['salary_range'][6])\n"
   ],
   "metadata": {
    "collapsed": false
   }
  },
  {
   "cell_type": "code",
   "execution_count": 257,
   "outputs": [
    {
     "data": {
      "text/plain": "112666.06502242152"
     },
     "execution_count": 257,
     "metadata": {},
     "output_type": "execute_result"
    }
   ],
   "source": [
    "'''what is the average salary of fraudulent jobs?'''\n",
    "df_salary_copy_numeric[df_salary_copy_numeric['fraudulent'] == 1]['salary_range'].mean()"
   ],
   "metadata": {
    "collapsed": false
   }
  },
  {
   "cell_type": "code",
   "execution_count": 258,
   "outputs": [
    {
     "name": "stdout",
     "output_type": "stream",
     "text": [
      "703800.0742911153\n"
     ]
    }
   ],
   "source": [
    "'''what is the average salary of non fraudulent jobs?'''\n",
    "print(df_salary_copy_numeric[df_salary_copy_numeric['fraudulent'] == 0]['salary_range'].mean())"
   ],
   "metadata": {
    "collapsed": false
   }
  },
  {
   "cell_type": "code",
   "execution_count": 259,
   "outputs": [
    {
     "name": "stdout",
     "output_type": "stream",
     "text": [
      "high         725\n",
      "low          719\n",
      "medium       716\n",
      "very high    708\n",
      "Name: salary_range, dtype: int64\n"
     ]
    }
   ],
   "source": [
    "'''categroies for salary_range based on quartiles'''\n",
    "\n",
    "df_salary_copy_categories = df_salary_copy_numeric.copy()\n",
    "\n",
    "df_salary_copy_categories['salary_range'] = pd.qcut(df_salary_copy_categories['salary_range'], q=4, labels=['low', 'medium', 'high', 'very high'])\n",
    "\n",
    "\n",
    "print(df_salary_copy_categories['salary_range'].value_counts())\n",
    "\n"
   ],
   "metadata": {
    "collapsed": false
   }
  },
  {
   "cell_type": "code",
   "execution_count": 260,
   "outputs": [
    {
     "name": "stdout",
     "output_type": "stream",
     "text": [
      "high         725\n",
      "low          719\n",
      "medium       716\n",
      "very high    708\n",
      "Name: salary_range, dtype: int64\n",
      "salary_range\n",
      "low          0.070932\n",
      "medium       0.118715\n",
      "high         0.053793\n",
      "very high    0.067797\n",
      "Name: fraudulent, dtype: float64\n"
     ]
    }
   ],
   "source": [
    "'''how many percent of all categories are fraudulent'''\n",
    "print(df_salary_copy_categories['salary_range'].value_counts())\n",
    "'''show percentage of fraudulent jobs in each salary_range category'''\n",
    "print(df_salary_copy_categories.groupby('salary_range')['fraudulent'].sum() / df_salary_copy_categories.groupby('salary_range')['fraudulent'].count())"
   ],
   "metadata": {
    "collapsed": false
   }
  },
  {
   "cell_type": "code",
   "execution_count": 261,
   "outputs": [],
   "source": [
    "#Fraudulent höhere Gewichtung\n"
   ],
   "metadata": {
    "collapsed": false
   }
  },
  {
   "cell_type": "code",
   "execution_count": 261,
   "outputs": [],
   "source": [],
   "metadata": {
    "collapsed": false
   }
  },
  {
   "cell_type": "code",
   "execution_count": 261,
   "outputs": [],
   "source": [],
   "metadata": {
    "collapsed": false
   }
  },
  {
   "cell_type": "code",
   "execution_count": 261,
   "outputs": [],
   "source": [],
   "metadata": {
    "collapsed": false
   }
  }
 ],
 "metadata": {
  "kernelspec": {
   "display_name": "Python 3.9.13 64-bit",
   "language": "python",
   "name": "python3"
  },
  "language_info": {
   "codemirror_mode": {
    "name": "ipython",
    "version": 3
   },
   "file_extension": ".py",
   "mimetype": "text/x-python",
   "name": "python",
   "nbconvert_exporter": "python",
   "pygments_lexer": "ipython3",
   "version": "3.9.13"
  },
  "orig_nbformat": 4,
  "vscode": {
   "interpreter": {
    "hash": "f3d42ad487b2b2994e012ab0306cc0a65d83ea9d079e1ade1e8453053e613de7"
   }
  }
 },
 "nbformat": 4,
 "nbformat_minor": 2
}
